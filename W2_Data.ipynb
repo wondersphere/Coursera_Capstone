{
 "metadata": {
  "language_info": {
   "codemirror_mode": {
    "name": "ipython",
    "version": 3
   },
   "file_extension": ".py",
   "mimetype": "text/x-python",
   "name": "python",
   "nbconvert_exporter": "python",
   "pygments_lexer": "ipython3",
   "version": "3.7.1-final"
  },
  "orig_nbformat": 2,
  "kernelspec": {
   "name": "Python 3.7.1 64-bit ('base': conda)",
   "display_name": "Python 3.7.1 64-bit ('base': conda)",
   "metadata": {
    "interpreter": {
     "hash": "6430f0116898f6610dcc7c75e52ceafe7de7297e27e8ed868f71a787891c6d15"
    }
   }
  }
 },
 "nbformat": 4,
 "nbformat_minor": 2,
 "cells": [
  {
   "source": [
    "# Applied Data Science Capstone Project"
   ],
   "cell_type": "markdown",
   "metadata": {}
  },
  {
   "source": [
    "## Data"
   ],
   "cell_type": "markdown",
   "metadata": {}
  },
  {
   "source": [
    "The data that will be used is to approach the problem is the sample data set from https://s3.us.cloud-object-storage.appdomain.cloud/cf-courses-data/CognitiveClass/DP0701EN/version-2/Data-Collisions.csv. \n",
    "\n",
    "This is a Seattle's car accident data from 2004 to 2020 which contains a number of information for each accident, such as the time, location, and the number of people / vehicle involved in each accident. Based on this historical data, we will try to build a model that is able to predict the severity of an accident based on the initial data collected from the accident site.\n",
    "\n",
    "The data itself containing 1 target column & 37 feature columns, some of them are not neccessarily useful for us in building the model.\n",
    "\n",
    "The target column is **Severity** which contains the severity classification. We have 2 different severity values here:\n",
    "\n",
    "- 1 Property Damage Only Collision\n",
    "- 2 Injury Collision\n",
    "\n",
    "These are the feature columns.\n",
    "\n",
    "    'SEVERITYCODE', 'X', 'Y', 'OBJECTID', 'INCKEY', 'COLDETKEY', 'REPORTNO',\n",
    "    'STATUS', 'ADDRTYPE', 'INTKEY', 'LOCATION', 'EXCEPTRSNCODE',\n",
    "    'EXCEPTRSNDESC', 'SEVERITYCODE.1', 'SEVERITYDESC', 'COLLISIONTYPE',\n",
    "    'PERSONCOUNT', 'PEDCOUNT', 'PEDCYLCOUNT', 'VEHCOUNT', 'INCDATE',\n",
    "    'INCDTTM', 'JUNCTIONTYPE', 'SDOT_COLCODE', 'SDOT_COLDESC',\n",
    "    'INATTENTIONIND', 'UNDERINFL', 'WEATHER', 'ROADCOND', 'LIGHTCOND',\n",
    "    'PEDROWNOTGRNT', 'SDOTCOLNUM', 'SPEEDING', 'ST_COLCODE', 'ST_COLDESC',\n",
    "    'SEGLANEKEY', 'CROSSWALKKEY', 'HITPARKEDCAR'\n",
    "\n",
    "The explanation for each column can be found in https://s3.us.cloud-object-storage.appdomain.cloud/cf-courses-data/CognitiveClass/DP0701EN/version-2/Metadata.pdf\n",
    "\n",
    "We exclude the columns that are entered by the state as they won't be available in the initial report ('PEDCOUNT', 'PEDCYLCOUNT', 'VEHCOUNT', 'INJURIES', 'SERIOUSINJURIES', 'FATALITIES'). We also exclude the 'LOCATION' column as this is a free text column and is already represented by the coordinates('X', 'Y').\n",
    "\n",
    "We are going to use the following feature columns in our initial model and adding or remove the features as necessary as we build the model.\n",
    "\n",
    "- ADDRTYPE          - Text, 12  - Collision address type: Alley, Block, Intersection\n",
    "- INTKEY            - Double    - Key that corresponds to the intersection associated with a collision \n",
    "- PERSONCOUNT       - Double    - The total number of people involved in the collision\n",
    "- SDOT_COLCODE      - Text, 10  - A code given to the collision by SDOT.\n",
    "- INATTENTIONIND    - Text, 1   - Whether or not collision was due to inattention. (Y/N) \n",
    "- UNDERINFL         - Text, 10  - Whether or not a driver involved was under the influence of drugs or alcohol. \n",
    "- WEATHER           - Text, 300 - A description of the weather conditions during the time of the collision. \n",
    "- ROADCOND          - Text, 300 - The condition of the road during the collision. \n",
    "- LIGHTCOND         - Text, 300 - The light conditions during the collision. \n",
    "- SPEEDING          - Text, 1   - Whether or not speeding was a factor in the collision. (Y/N)\n",
    "- ST_COLCODE        - Text, 10  - A code provided by the state that describes the collision. See the State Collision Code Dictionary in the Metadata file. \n",
    "- SEGLANEKEY        - Long      - A key for the lane segment in which the collision occurred. \n",
    "- CROSSWALKKEY      - Long      - A key for the crosswalk at which the collision occurred. \n",
    "- HITPARKEDCAR      - Text, 1   - Whether or not the collision involved hitting a parked car. (Y/N) \n",
    "\n",
    "\n",
    "\n",
    "\n",
    "\n",
    "\n",
    "\n"
   ],
   "cell_type": "markdown",
   "metadata": {}
  },
  {
   "cell_type": "code",
   "execution_count": null,
   "metadata": {},
   "outputs": [],
   "source": []
  }
 ]
}